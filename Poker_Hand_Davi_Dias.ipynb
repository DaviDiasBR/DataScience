{
  "nbformat": 4,
  "nbformat_minor": 0,
  "metadata": {
    "colab": {
      "name": "Poker_Hand_Davi_Dias.ipynb",
      "provenance": [],
      "include_colab_link": true
    },
    "kernelspec": {
      "name": "python3",
      "display_name": "Python 3"
    },
    "language_info": {
      "name": "python"
    }
  },
  "cells": [
    {
      "cell_type": "markdown",
      "metadata": {
        "id": "view-in-github",
        "colab_type": "text"
      },
      "source": [
        "<a href=\"https://colab.research.google.com/github/DaviDiasBR/DataScience/blob/main/Poker_Hand_Davi_Dias.ipynb\" target=\"_parent\"><img src=\"https://colab.research.google.com/assets/colab-badge.svg\" alt=\"Open In Colab\"/></a>"
      ]
    },
    {
      "cell_type": "markdown",
      "source": [
        "## DATAH CHALLENGE - DAVI DIAS\n"
      ],
      "metadata": {
        "id": "Vgr80LB25zZ4"
      }
    },
    {
      "cell_type": "code",
      "source": [
        "# HANDS IN ASCENDING ORDER, STRINGS OF NUMBER AND SYMBOL (D-DIAMOND, C-CLUBS, H-HEARTS, S-SPADES)\n",
        "test_hands = [\n",
        "    [\"AC\", \"5C\", \"10C\", \"7C\", \"3S\"],\n",
        "    [\"2C\", \"3D\", \"4S\", \"5H\", \"2D\"],\n",
        "    [\"2C\", \"3D\", \"4S\", \"3H\", \"2D\"],\n",
        "    [\"5S\", \"4C\", \"AD\", \"4S\", \"4H\"],\n",
        "    [\"3H\", \"7H\", \"6S\", \"4D\", \"5S\"],\n",
        "    [\"AC\", \"5C\", \"10C\", \"7C\", \"3C\"],\n",
        "    [\"5C\", \"8D\", \"5H\", \"8S\", \"8H\"],\n",
        "    [\"3D\", \"7H\", \"7S\", \"7C\", \"7D\"],\n",
        "    [\"AS\", \"10S\", \"QS\", \"KS\", \"JS\"],\n",
        "]"
      ],
      "metadata": {
        "id": "V1GYBcSGXm3X"
      },
      "execution_count": 40,
      "outputs": []
    },
    {
      "cell_type": "code",
      "source": [
        "# CREATED FUNCTION (SUIT) TO RECIEVE A CARD AND RETURN SYMBOL\n",
        "def suit(card):\n",
        "  return card[-1]"
      ],
      "metadata": {
        "id": "rYucGZcwXoz0"
      },
      "execution_count": 41,
      "outputs": []
    },
    {
      "cell_type": "code",
      "source": [
        "# FIRST TEST OF SUIT FUNCTION\n",
        "suit(\"AC\")"
      ],
      "metadata": {
        "colab": {
          "base_uri": "https://localhost:8080/",
          "height": 35
        },
        "id": "C8IC6ePYXsIQ",
        "outputId": "6af3356c-5ee7-4bf9-f8c5-9609af9e5b2e"
      },
      "execution_count": 42,
      "outputs": [
        {
          "output_type": "execute_result",
          "data": {
            "text/plain": [
              "'C'"
            ],
            "application/vnd.google.colaboratory.intrinsic+json": {
              "type": "string"
            }
          },
          "metadata": {},
          "execution_count": 42
        }
      ]
    },
    {
      "cell_type": "code",
      "source": [
        "# SECOND TEST OF SUIT FUNCTION\n",
        "suit(\"10D\")"
      ],
      "metadata": {
        "colab": {
          "base_uri": "https://localhost:8080/",
          "height": 35
        },
        "id": "dc9CYPQucXUO",
        "outputId": "f6abf5a5-b34a-46c9-b2df-8a9d22a7ee52"
      },
      "execution_count": 43,
      "outputs": [
        {
          "output_type": "execute_result",
          "data": {
            "text/plain": [
              "'D'"
            ],
            "application/vnd.google.colaboratory.intrinsic+json": {
              "type": "string"
            }
          },
          "metadata": {},
          "execution_count": 43
        }
      ]
    },
    {
      "cell_type": "code",
      "source": [
        "# CREATED FUNCTION (VALUE) TO GET THE VALUE OF THE CARD\n",
        "def value(card):\n",
        "  if card[0] == \"A\":\n",
        "    return 14\n",
        "  if card[0] == \"T\":\n",
        "    return 10\n",
        "  if card[0] == \"J\":\n",
        "    return 11\n",
        "  if card[0] == \"Q\":\n",
        "    return 12\n",
        "  if card[0] == \"K\":\n",
        "    return 13\n",
        "  return int(card[0:-1])"
      ],
      "metadata": {
        "id": "hLOwgsaIccti"
      },
      "execution_count": 44,
      "outputs": []
    },
    {
      "cell_type": "code",
      "source": [
        "# FIRST TEST OF VALUE FUNCTION\n",
        "value(\"AC\")"
      ],
      "metadata": {
        "colab": {
          "base_uri": "https://localhost:8080/"
        },
        "id": "UWG7LhRUtxuS",
        "outputId": "5b653b3c-7d0b-4871-9936-c0c69613ae73"
      },
      "execution_count": 45,
      "outputs": [
        {
          "output_type": "execute_result",
          "data": {
            "text/plain": [
              "14"
            ]
          },
          "metadata": {},
          "execution_count": 45
        }
      ]
    },
    {
      "cell_type": "code",
      "source": [
        "# SECOND TEST OF SUIT FUNCTION\n",
        "value(\"10D\")"
      ],
      "metadata": {
        "colab": {
          "base_uri": "https://localhost:8080/"
        },
        "id": "CcdAc4VSt5bP",
        "outputId": "d69e7e52-b168-43ec-910f-4c4166dc95ac"
      },
      "execution_count": 46,
      "outputs": [
        {
          "output_type": "execute_result",
          "data": {
            "text/plain": [
              "10"
            ]
          },
          "metadata": {},
          "execution_count": 46
        }
      ]
    },
    {
      "cell_type": "code",
      "source": [
        "# CREATED FUNCTION (FLUSH), VERIFY IF CARDS ARE OF THE SAME SYMBOL\n",
        "def is_flush(cards):\n",
        "  return all([suit(card) == suit(cards[0]) for card in cards[1:]])"
      ],
      "metadata": {
        "id": "7SQOn-MfuVCF"
      },
      "execution_count": 47,
      "outputs": []
    },
    {
      "cell_type": "code",
      "source": [
        "# TEST OF FLUSH FUNCTION\n",
        "[is_flush(hand) for hand in test_hands]"
      ],
      "metadata": {
        "colab": {
          "base_uri": "https://localhost:8080/"
        },
        "id": "hqzyrWCow4Mq",
        "outputId": "1f854485-c927-4910-d9e2-7a2250bab767"
      },
      "execution_count": 48,
      "outputs": [
        {
          "output_type": "execute_result",
          "data": {
            "text/plain": [
              "[False, False, False, False, False, True, False, False, True]"
            ]
          },
          "metadata": {},
          "execution_count": 48
        }
      ]
    },
    {
      "cell_type": "code",
      "source": [
        "# CREATED FUNCTION (HAND_DIST) TO GET HANDS DISTRIBUITION USING DICTIONARY\n",
        "def hand_dist(cards):\n",
        "  dist = {i:0 for i in range(1, 15)}\n",
        "  for card in cards:\n",
        "    dist[value(card)] += 1\n",
        "  dist[1] = dist[14]\n",
        "  return dist"
      ],
      "metadata": {
        "id": "TB3jj172yfjj"
      },
      "execution_count": 49,
      "outputs": []
    },
    {
      "cell_type": "code",
      "source": [
        "# TEST OF HAND_DIST FUNCTION\n",
        "[hand_dist(hand) for hand in test_hands]"
      ],
      "metadata": {
        "colab": {
          "base_uri": "https://localhost:8080/"
        },
        "id": "H45OxfivFu1z",
        "outputId": "d14ac850-a843-46ed-c44b-6e20b652b7c3"
      },
      "execution_count": 50,
      "outputs": [
        {
          "output_type": "execute_result",
          "data": {
            "text/plain": [
              "[{1: 1,\n",
              "  2: 0,\n",
              "  3: 1,\n",
              "  4: 0,\n",
              "  5: 1,\n",
              "  6: 0,\n",
              "  7: 1,\n",
              "  8: 0,\n",
              "  9: 0,\n",
              "  10: 1,\n",
              "  11: 0,\n",
              "  12: 0,\n",
              "  13: 0,\n",
              "  14: 1},\n",
              " {1: 0,\n",
              "  2: 2,\n",
              "  3: 1,\n",
              "  4: 1,\n",
              "  5: 1,\n",
              "  6: 0,\n",
              "  7: 0,\n",
              "  8: 0,\n",
              "  9: 0,\n",
              "  10: 0,\n",
              "  11: 0,\n",
              "  12: 0,\n",
              "  13: 0,\n",
              "  14: 0},\n",
              " {1: 0,\n",
              "  2: 2,\n",
              "  3: 2,\n",
              "  4: 1,\n",
              "  5: 0,\n",
              "  6: 0,\n",
              "  7: 0,\n",
              "  8: 0,\n",
              "  9: 0,\n",
              "  10: 0,\n",
              "  11: 0,\n",
              "  12: 0,\n",
              "  13: 0,\n",
              "  14: 0},\n",
              " {1: 1,\n",
              "  2: 0,\n",
              "  3: 0,\n",
              "  4: 3,\n",
              "  5: 1,\n",
              "  6: 0,\n",
              "  7: 0,\n",
              "  8: 0,\n",
              "  9: 0,\n",
              "  10: 0,\n",
              "  11: 0,\n",
              "  12: 0,\n",
              "  13: 0,\n",
              "  14: 1},\n",
              " {1: 0,\n",
              "  2: 0,\n",
              "  3: 1,\n",
              "  4: 1,\n",
              "  5: 1,\n",
              "  6: 1,\n",
              "  7: 1,\n",
              "  8: 0,\n",
              "  9: 0,\n",
              "  10: 0,\n",
              "  11: 0,\n",
              "  12: 0,\n",
              "  13: 0,\n",
              "  14: 0},\n",
              " {1: 1,\n",
              "  2: 0,\n",
              "  3: 1,\n",
              "  4: 0,\n",
              "  5: 1,\n",
              "  6: 0,\n",
              "  7: 1,\n",
              "  8: 0,\n",
              "  9: 0,\n",
              "  10: 1,\n",
              "  11: 0,\n",
              "  12: 0,\n",
              "  13: 0,\n",
              "  14: 1},\n",
              " {1: 0,\n",
              "  2: 0,\n",
              "  3: 0,\n",
              "  4: 0,\n",
              "  5: 2,\n",
              "  6: 0,\n",
              "  7: 0,\n",
              "  8: 3,\n",
              "  9: 0,\n",
              "  10: 0,\n",
              "  11: 0,\n",
              "  12: 0,\n",
              "  13: 0,\n",
              "  14: 0},\n",
              " {1: 0,\n",
              "  2: 0,\n",
              "  3: 1,\n",
              "  4: 0,\n",
              "  5: 0,\n",
              "  6: 0,\n",
              "  7: 4,\n",
              "  8: 0,\n",
              "  9: 0,\n",
              "  10: 0,\n",
              "  11: 0,\n",
              "  12: 0,\n",
              "  13: 0,\n",
              "  14: 0},\n",
              " {1: 1,\n",
              "  2: 0,\n",
              "  3: 0,\n",
              "  4: 0,\n",
              "  5: 0,\n",
              "  6: 0,\n",
              "  7: 0,\n",
              "  8: 0,\n",
              "  9: 0,\n",
              "  10: 1,\n",
              "  11: 1,\n",
              "  12: 1,\n",
              "  13: 1,\n",
              "  14: 1}]"
            ]
          },
          "metadata": {},
          "execution_count": 50
        }
      ]
    },
    {
      "cell_type": "code",
      "source": [
        "# CREATED FUNCTION (STRAIGHT_HIGH_CARD) TO RETURN THE HIGHEST VALUE\n",
        "def straight_high_card(cards):\n",
        "  dist = hand_dist(cards)\n",
        "  for value in range(1, 11):\n",
        "    if all([dist[value + k] == 1 for k in range(5)]):\n",
        "      return value + 4\n",
        "      \n",
        "  return None"
      ],
      "metadata": {
        "id": "jX_EC47TF7EZ"
      },
      "execution_count": 51,
      "outputs": []
    },
    {
      "cell_type": "code",
      "source": [
        "# TEST OF STRAIGHT_HIGH_CARD FUNCTION\n",
        "[straight_high_card(hand) for hand in test_hands]"
      ],
      "metadata": {
        "colab": {
          "base_uri": "https://localhost:8080/"
        },
        "id": "32SISyuVF_cI",
        "outputId": "13f7cb86-7f48-458b-e73e-a1b353a10f48"
      },
      "execution_count": 52,
      "outputs": [
        {
          "output_type": "execute_result",
          "data": {
            "text/plain": [
              "[None, None, None, None, 7, None, None, None, 14]"
            ]
          },
          "metadata": {},
          "execution_count": 52
        }
      ]
    },
    {
      "cell_type": "code",
      "source": [
        "# CREATED FUNCTION (CARD_COUNT) THAT COUNTS NUMBER OS CARDS\n",
        "def card_count(cards, num, but=None):\n",
        "  dist = hand_dist(cards)\n",
        "  for value in range(2, 15):\n",
        "    if value == but:\n",
        "      continue\n",
        "    if dist[value] == num:\n",
        "      return value\n",
        "  return None"
      ],
      "metadata": {
        "id": "DCc5C4xLGTHj"
      },
      "execution_count": 53,
      "outputs": []
    },
    {
      "cell_type": "code",
      "source": [
        "# TEST OF CARD_COUNT FUNCTION\n",
        "[card_count(hand, 2, 2) for hand in test_hands]"
      ],
      "metadata": {
        "colab": {
          "base_uri": "https://localhost:8080/"
        },
        "id": "XxjZU53z1Plh",
        "outputId": "d3b2adba-5ef8-461d-cf4f-344c1c51fba4"
      },
      "execution_count": 54,
      "outputs": [
        {
          "output_type": "execute_result",
          "data": {
            "text/plain": [
              "[None, None, 3, None, None, None, 5, None, None]"
            ]
          },
          "metadata": {},
          "execution_count": 54
        }
      ]
    },
    {
      "cell_type": "code",
      "source": [
        "# CREATED FUNCTION HAND_RANK TO SCORE HANDS\n",
        "def hand_rank(cards):\n",
        "  if straight_high_card(cards) is not None and is_flush(cards):\n",
        "    return 8\n",
        "  if card_count(cards, 4) is not None:\n",
        "    return 7\n",
        "  if card_count(cards, 3) is not None and card_count(cards, 2) is not None:\n",
        "    return 6\n",
        "  if is_flush(cards):\n",
        "    return 5\n",
        "  if straight_high_card(cards) is not None:\n",
        "    return 4\n",
        "  if card_count(cards, 3) is not None:\n",
        "    return 3\n",
        "  pair1 = card_count(cards, 2)\n",
        "  if pair1 is not None:\n",
        "    if card_count(cards, 2, but=pair1) is not None:\n",
        "      return 2\n",
        "    return 1\n",
        "  return 0"
      ],
      "metadata": {
        "id": "yuijaaG61tbZ"
      },
      "execution_count": 55,
      "outputs": []
    },
    {
      "cell_type": "code",
      "source": [
        "# TEST OF HAND_RANK FUNCTION\n",
        "[hand_rank(hand) for hand in test_hands]"
      ],
      "metadata": {
        "colab": {
          "base_uri": "https://localhost:8080/"
        },
        "id": "2bfRJIwx11RD",
        "outputId": "64bd1d3b-9964-41e5-9888-1ce31ed91236"
      },
      "execution_count": 56,
      "outputs": [
        {
          "output_type": "execute_result",
          "data": {
            "text/plain": [
              "[0, 1, 2, 3, 4, 5, 6, 7, 8]"
            ]
          },
          "metadata": {},
          "execution_count": 56
        }
      ]
    },
    {
      "cell_type": "code",
      "source": [
        "# CREATED FUNCTION (COMPARE_HANDS) TO COMPARE TWO HANDS\n",
        "def compare_hands(hand1, hand2):\n",
        "  r1 = hand_rank(hand1)\n",
        "  r2 = hand_rank(hand2)\n",
        "  if r1 < r2:\n",
        "    return -1\n",
        "  if r1 > r2:\n",
        "    return 1\n",
        "  return 0"
      ],
      "metadata": {
        "id": "-UuIbLN5O446"
      },
      "execution_count": 57,
      "outputs": []
    },
    {
      "cell_type": "code",
      "source": [
        "# TEST OF COMPARE_HANDS\n",
        "compare_hands(test_hands[4], test_hands[4])"
      ],
      "metadata": {
        "colab": {
          "base_uri": "https://localhost:8080/"
        },
        "id": "VNuy1BwsUKnc",
        "outputId": "68744365-2caa-4947-f73b-d8cb8b05c73d"
      },
      "execution_count": 58,
      "outputs": [
        {
          "output_type": "execute_result",
          "data": {
            "text/plain": [
              "0"
            ]
          },
          "metadata": {},
          "execution_count": 58
        }
      ]
    },
    {
      "cell_type": "code",
      "source": [
        "# CREATED FUNCTION (MAKE_DECK) TO MIX CARDS\n",
        "def make_deck():\n",
        "  deck = []\n",
        "  for suit in (\"D\", \"C\", \"H\", \"S\"):\n",
        "    for value in range(2, 15):\n",
        "      if value < 10:\n",
        "        value_string = str(value)\n",
        "      else:\n",
        "        value_string = (\"J\", \"Q\", \"K\", \"A\", \"T\")[value - 10]\n",
        "      deck.append(value_string + suit)\n",
        "  return deck"
      ],
      "metadata": {
        "id": "MGL_EAxBVnR3"
      },
      "execution_count": 59,
      "outputs": []
    },
    {
      "cell_type": "code",
      "source": [
        "# VERIFICATION OF NUMBER OF CARDS\n",
        "len(make_deck())"
      ],
      "metadata": {
        "colab": {
          "base_uri": "https://localhost:8080/"
        },
        "id": "sODSZvWmWuCl",
        "outputId": "231dd084-271d-4f9a-ff93-523797982ad2"
      },
      "execution_count": 60,
      "outputs": [
        {
          "output_type": "execute_result",
          "data": {
            "text/plain": [
              "52"
            ]
          },
          "metadata": {},
          "execution_count": 60
        }
      ]
    },
    {
      "cell_type": "code",
      "source": [
        "# IMPORTING RANDOM LIBRARY\n",
        "import random"
      ],
      "metadata": {
        "id": "jthRAtKxXTiI"
      },
      "execution_count": 61,
      "outputs": []
    },
    {
      "cell_type": "code",
      "source": [
        "# CREATED FUNCTION (SHUFFLED_DECK) TO MIX CARDS USING RANDOMIC LIBRARY\n",
        "def shuffled_deck():\n",
        "  deck = make_deck()\n",
        "  random.shuffle(deck)\n",
        "  return deck"
      ],
      "metadata": {
        "id": "X-5WNamiXUM3"
      },
      "execution_count": 62,
      "outputs": []
    },
    {
      "cell_type": "code",
      "source": [
        "# TEST OF SHUFFLED_DECK FUNCTION\n",
        "shuffled_deck()"
      ],
      "metadata": {
        "colab": {
          "base_uri": "https://localhost:8080/"
        },
        "id": "LpgCZqRgYfWd",
        "outputId": "bf64b24f-a8e3-49e7-e5fb-d7142e5afbb3"
      },
      "execution_count": 63,
      "outputs": [
        {
          "output_type": "execute_result",
          "data": {
            "text/plain": [
              "['9D',\n",
              " '2H',\n",
              " 'AH',\n",
              " '3S',\n",
              " '5H',\n",
              " '5S',\n",
              " '10C',\n",
              " '4C',\n",
              " '8D',\n",
              " '10H',\n",
              " '10D',\n",
              " 'KS',\n",
              " '6H',\n",
              " '6C',\n",
              " 'QD',\n",
              " '2D',\n",
              " '4D',\n",
              " '3D',\n",
              " '4H',\n",
              " 'QC',\n",
              " '3H',\n",
              " '4S',\n",
              " '7D',\n",
              " '6D',\n",
              " '7H',\n",
              " '7C',\n",
              " '8H',\n",
              " 'AS',\n",
              " 'JH',\n",
              " '5D',\n",
              " 'QS',\n",
              " '8C',\n",
              " 'AD',\n",
              " 'JD',\n",
              " '6S',\n",
              " '2C',\n",
              " '8S',\n",
              " 'JC',\n",
              " '5C',\n",
              " 'KC',\n",
              " '9S',\n",
              " 'JS',\n",
              " 'KH',\n",
              " '9H',\n",
              " 'AC',\n",
              " '3C',\n",
              " 'KD',\n",
              " '10S',\n",
              " '9C',\n",
              " 'QH',\n",
              " '2S',\n",
              " '7S']"
            ]
          },
          "metadata": {},
          "execution_count": 63
        }
      ]
    },
    {
      "cell_type": "code",
      "source": [
        "# CREATED FUNCTION (DEAL) TO GIVE CARDS\n",
        "def deal(deck, n):\n",
        "  hand = deck[0:n]\n",
        "  del deck[0:n]\n",
        "  return hand"
      ],
      "metadata": {
        "id": "FO44inQgY0f3"
      },
      "execution_count": 64,
      "outputs": []
    },
    {
      "cell_type": "code",
      "source": [
        "# MIX CARDS IN A DECK\n",
        "deck = shuffled_deck()\n",
        "deck"
      ],
      "metadata": {
        "colab": {
          "base_uri": "https://localhost:8080/"
        },
        "id": "4nUkF9emZMVg",
        "outputId": "b2853554-d6f5-4f53-86e5-463d35c95db3"
      },
      "execution_count": 65,
      "outputs": [
        {
          "output_type": "execute_result",
          "data": {
            "text/plain": [
              "['AC',\n",
              " 'QS',\n",
              " 'AD',\n",
              " '3H',\n",
              " '5S',\n",
              " '10C',\n",
              " '4C',\n",
              " 'KD',\n",
              " 'JC',\n",
              " '8H',\n",
              " '6C',\n",
              " '7C',\n",
              " 'JH',\n",
              " 'KC',\n",
              " 'QC',\n",
              " '10S',\n",
              " 'AS',\n",
              " '2C',\n",
              " '9C',\n",
              " 'QH',\n",
              " 'KS',\n",
              " 'QD',\n",
              " '5C',\n",
              " '8C',\n",
              " '4H',\n",
              " '2S',\n",
              " '3D',\n",
              " '5H',\n",
              " '9S',\n",
              " '7S',\n",
              " '4D',\n",
              " '8S',\n",
              " 'JS',\n",
              " '9D',\n",
              " '8D',\n",
              " 'JD',\n",
              " '4S',\n",
              " '7D',\n",
              " '3C',\n",
              " '2D',\n",
              " '6H',\n",
              " '6D',\n",
              " '6S',\n",
              " '3S',\n",
              " '9H',\n",
              " '5D',\n",
              " '7H',\n",
              " '2H',\n",
              " 'AH',\n",
              " '10H',\n",
              " '10D',\n",
              " 'KH']"
            ]
          },
          "metadata": {},
          "execution_count": 65
        }
      ]
    },
    {
      "cell_type": "code",
      "source": [
        "# DECK WITH 5 CARDS\n",
        "deal(deck, 5)"
      ],
      "metadata": {
        "colab": {
          "base_uri": "https://localhost:8080/"
        },
        "id": "VVUhxhVqZbUx",
        "outputId": "51ec287a-8e80-4ec3-9758-453989b35bbf"
      },
      "execution_count": 66,
      "outputs": [
        {
          "output_type": "execute_result",
          "data": {
            "text/plain": [
              "['AC', 'QS', 'AD', '3H', '5S']"
            ]
          },
          "metadata": {},
          "execution_count": 66
        }
      ]
    },
    {
      "cell_type": "code",
      "source": [
        "# TEST OF NUMBER OF REMAINING CARDS IN DECK\n",
        "len(deck)"
      ],
      "metadata": {
        "colab": {
          "base_uri": "https://localhost:8080/"
        },
        "id": "hBGQQWUjZcsn",
        "outputId": "df9ba345-ff68-4214-fd6d-981e4ffc10da"
      },
      "execution_count": 67,
      "outputs": [
        {
          "output_type": "execute_result",
          "data": {
            "text/plain": [
              "47"
            ]
          },
          "metadata": {},
          "execution_count": 67
        }
      ]
    },
    {
      "cell_type": "code",
      "source": [
        "# TEST OF REMAINING CARS IN DECK\n",
        "deck"
      ],
      "metadata": {
        "colab": {
          "base_uri": "https://localhost:8080/"
        },
        "id": "nbAPD6Akakxi",
        "outputId": "a2ddfe79-78ee-4251-a67e-04e5bea742fc"
      },
      "execution_count": 68,
      "outputs": [
        {
          "output_type": "execute_result",
          "data": {
            "text/plain": [
              "['10C',\n",
              " '4C',\n",
              " 'KD',\n",
              " 'JC',\n",
              " '8H',\n",
              " '6C',\n",
              " '7C',\n",
              " 'JH',\n",
              " 'KC',\n",
              " 'QC',\n",
              " '10S',\n",
              " 'AS',\n",
              " '2C',\n",
              " '9C',\n",
              " 'QH',\n",
              " 'KS',\n",
              " 'QD',\n",
              " '5C',\n",
              " '8C',\n",
              " '4H',\n",
              " '2S',\n",
              " '3D',\n",
              " '5H',\n",
              " '9S',\n",
              " '7S',\n",
              " '4D',\n",
              " '8S',\n",
              " 'JS',\n",
              " '9D',\n",
              " '8D',\n",
              " 'JD',\n",
              " '4S',\n",
              " '7D',\n",
              " '3C',\n",
              " '2D',\n",
              " '6H',\n",
              " '6D',\n",
              " '6S',\n",
              " '3S',\n",
              " '9H',\n",
              " '5D',\n",
              " '7H',\n",
              " '2H',\n",
              " 'AH',\n",
              " '10H',\n",
              " '10D',\n",
              " 'KH']"
            ]
          },
          "metadata": {},
          "execution_count": 68
        }
      ]
    },
    {
      "cell_type": "code",
      "source": [
        "# CLASSIFICATION BY NAMES\n",
        "rank_names = [\"high card\", \"pair\", \"two pair\", \"three of a kind\", \"straight\", \n",
        "              \"flush\", \"full house\", \"four of a kind\", \"straight flush\"]"
      ],
      "metadata": {
        "id": "l9VkhGNWa9tF"
      },
      "execution_count": 69,
      "outputs": []
    },
    {
      "cell_type": "code",
      "source": [
        "# CREATED FUNCTION (SHOW_COMPARE_HANDS) TO SHOW COMPARISON OF HANDS\n",
        "def show_compare_hands(hand1, hand2):\n",
        "  sgn = compare_hands(hand1, hand2)\n",
        "  result = (\"loses to\", \"ties\", \"beats\")[sgn + 1]\n",
        "  print(f'{hand1} {result} {hand2}')\n",
        "  r1 = hand_rank(hand1)\n",
        "  r2 = hand_rank(hand2)\n",
        "  print(f'{rank_names[r1]} {result} {rank_names[r2]}')"
      ],
      "metadata": {
        "id": "LObiWa_abB4L"
      },
      "execution_count": 70,
      "outputs": []
    },
    {
      "cell_type": "code",
      "source": [
        "# GETTING TWO HANDS OF DECK\n",
        "hand1 = deal(deck, 5)\n",
        "hand2 = deal(deck, 5)"
      ],
      "metadata": {
        "id": "JVpuPzhEcReX"
      },
      "execution_count": 71,
      "outputs": []
    },
    {
      "cell_type": "code",
      "source": [
        "hand1"
      ],
      "metadata": {
        "colab": {
          "base_uri": "https://localhost:8080/"
        },
        "id": "ZPh6TgKec6F6",
        "outputId": "a1bcd724-7018-40bb-ffc5-c852b6d08c65"
      },
      "execution_count": 72,
      "outputs": [
        {
          "output_type": "execute_result",
          "data": {
            "text/plain": [
              "['10C', '4C', 'KD', 'JC', '8H']"
            ]
          },
          "metadata": {},
          "execution_count": 72
        }
      ]
    },
    {
      "cell_type": "code",
      "source": [
        "hand2"
      ],
      "metadata": {
        "colab": {
          "base_uri": "https://localhost:8080/"
        },
        "id": "zi6NwGfpc8t_",
        "outputId": "d681f4ad-3366-4ad0-ac4f-6e15c6d6c143"
      },
      "execution_count": 73,
      "outputs": [
        {
          "output_type": "execute_result",
          "data": {
            "text/plain": [
              "['6C', '7C', 'JH', 'KC', 'QC']"
            ]
          },
          "metadata": {},
          "execution_count": 73
        }
      ]
    },
    {
      "cell_type": "code",
      "source": [
        "# COMPARING HANDS\n",
        "show_compare_hands(hand1, hand2)"
      ],
      "metadata": {
        "colab": {
          "base_uri": "https://localhost:8080/"
        },
        "id": "GnTk4YbRdPMh",
        "outputId": "b400c044-302f-40dd-c701-dbddebc2033b"
      },
      "execution_count": 74,
      "outputs": [
        {
          "output_type": "stream",
          "name": "stdout",
          "text": [
            "['10C', '4C', 'KD', 'JC', '8H'] ties ['6C', '7C', 'JH', 'KC', 'QC']\n",
            "high card ties high card\n"
          ]
        }
      ]
    },
    {
      "cell_type": "code",
      "source": [
        "# CREATED FUNCTION (TEST_RANDOM_HANDS) TO GET RANDOM HANDS\n",
        "def test_random_hands(n=50):\n",
        "  for i in range(n):\n",
        "    deck = shuffled_deck()\n",
        "    show_compare_hands(deal(deck, 5), deal(deck, 5))"
      ],
      "metadata": {
        "id": "IsUBEF8bdiDo"
      },
      "execution_count": 79,
      "outputs": []
    },
    {
      "cell_type": "code",
      "source": [
        "# TEST OF TEST_RANDOM_HANDS\n",
        "test_random_hands()"
      ],
      "metadata": {
        "colab": {
          "base_uri": "https://localhost:8080/"
        },
        "id": "BEj3GYZkdoNb",
        "outputId": "33db9f74-b35a-43eb-c421-1ce7ad025b36"
      },
      "execution_count": 80,
      "outputs": [
        {
          "output_type": "stream",
          "name": "stdout",
          "text": [
            "['4H', '9H', 'QD', 'KC', '10S'] loses to ['2S', '3H', 'AS', 'AC', '9S']\n",
            "high card loses to pair\n",
            "['7D', 'QC', '4C', '8S', '2D'] ties ['3S', 'QS', 'JH', '5D', '9S']\n",
            "high card ties high card\n",
            "['4D', '2H', 'QS', '3C', 'KC'] loses to ['2C', 'QC', 'KD', '8H', 'QD']\n",
            "high card loses to pair\n",
            "['7H', '10D', 'KC', '9S', '5H'] ties ['AD', '4H', '6C', '8D', 'QS']\n",
            "high card ties high card\n",
            "['2D', 'JC', 'KD', '6H', '7S'] loses to ['KH', '7D', '3D', '9D', 'KC']\n",
            "high card loses to pair\n",
            "['6H', 'QH', '9D', 'AD', '4D'] loses to ['4H', '7S', '4C', '9H', '8H']\n",
            "high card loses to pair\n",
            "['9C', 'QD', '2C', '4C', 'JD'] loses to ['QS', '4S', '6C', 'JH', '4H']\n",
            "high card loses to pair\n",
            "['AH', '7D', '7S', '4C', 'JS'] ties ['9H', '9D', '5D', '3C', 'KD']\n",
            "pair ties pair\n",
            "['3D', '6D', '6H', 'KC', '4S'] beats ['5D', '4D', 'QD', '9D', 'JS']\n",
            "pair beats high card\n",
            "['10D', 'JH', '2C', '7C', '4H'] loses to ['3S', '3H', '3C', '5H', '2S']\n",
            "high card loses to three of a kind\n",
            "['7S', 'AS', '4H', 'AD', 'KH'] ties ['8S', '6D', '3C', '9S', '8H']\n",
            "pair ties pair\n",
            "['5C', 'QD', 'QC', '5H', '7H'] beats ['5S', '2C', '9S', 'KH', '8D']\n",
            "two pair beats high card\n",
            "['7C', '4C', '7D', '5D', 'KD'] ties ['3S', '5S', '3C', 'QD', '4S']\n",
            "pair ties pair\n",
            "['8D', '3D', '9H', '5S', '5C'] ties ['2C', 'KD', '9C', '6D', 'KS']\n",
            "pair ties pair\n",
            "['5D', '7D', '8S', '8H', '7H'] beats ['JS', '3H', '5C', '6S', 'QC']\n",
            "two pair beats high card\n",
            "['AC', 'AH', '8S', '8D', '9D'] beats ['JC', '10S', '9S', '3D', '6D']\n",
            "two pair beats high card\n",
            "['5C', '8C', 'AH', '2C', '10D'] ties ['8D', 'AD', 'JD', '4C', '9D']\n",
            "high card ties high card\n",
            "['9C', '10H', '6H', '6C', 'KD'] ties ['JC', '8D', '2C', '9D', '2D']\n",
            "pair ties pair\n",
            "['9S', '4S', '3C', '4C', 'KS'] beats ['10C', 'AS', '7D', '5C', '2S']\n",
            "pair beats high card\n",
            "['3H', 'AD', 'AC', 'AS', 'QH'] beats ['3S', '6S', 'KC', '5H', '8D']\n",
            "three of a kind beats high card\n",
            "['JH', '10H', '5D', '4C', '6D'] ties ['8C', '10S', '9S', '4H', '7S']\n",
            "high card ties high card\n",
            "['7S', 'JD', '7C', 'QH', '6H'] ties ['JC', 'AC', 'AH', '7D', '6D']\n",
            "pair ties pair\n",
            "['AC', '2C', 'AS', '4C', '3H'] ties ['5C', '9H', '3S', '3C', 'KD']\n",
            "pair ties pair\n",
            "['QH', '9D', 'JC', 'KD', 'QC'] beats ['9C', 'AS', '7D', '10H', '8C']\n",
            "pair beats high card\n",
            "['3H', '6S', '10D', '3S', 'JH'] beats ['10C', 'KS', '5D', 'JD', 'AC']\n",
            "pair beats high card\n",
            "['QH', 'AS', '6D', 'JC', 'JS'] ties ['7D', '9S', '9H', '8S', 'KH']\n",
            "pair ties pair\n",
            "['6D', '2S', 'AS', '9D', 'AH'] beats ['8H', 'QC', 'KD', '7C', '4H']\n",
            "pair beats high card\n",
            "['AD', '3C', 'AH', '4S', '5C'] ties ['5S', 'JC', '6S', 'QH', '6C']\n",
            "pair ties pair\n",
            "['7C', 'AH', 'KD', '9D', '5C'] ties ['10D', '9S', 'JS', '5S', '6S']\n",
            "high card ties high card\n",
            "['4H', '2D', '4D', '10H', 'JH'] ties ['9H', 'AS', 'KD', '5S', '5D']\n",
            "pair ties pair\n",
            "['2D', '3S', 'QH', '3C', '9H'] beats ['JS', '8H', '3D', 'QD', '10C']\n",
            "pair beats high card\n",
            "['JH', 'KS', 'QS', '2S', '3D'] loses to ['JS', 'AC', '6H', '4C', 'JD']\n",
            "high card loses to pair\n",
            "['AC', 'AH', '3S', 'JC', '2H'] beats ['AD', 'QS', '10C', '2S', '4H']\n",
            "pair beats high card\n",
            "['4S', 'KS', '9S', '8D', '6C'] ties ['6D', 'JC', '2C', '5C', '3H']\n",
            "high card ties high card\n",
            "['9D', '3C', 'AC', 'JC', 'KC'] loses to ['3D', 'JS', 'QH', 'JH', '2C']\n",
            "high card loses to pair\n",
            "['6D', '10C', '9S', 'AC', '6C'] ties ['9D', 'QS', '5S', 'QH', 'AS']\n",
            "pair ties pair\n",
            "['8C', '10D', 'JS', '7H', '5H'] ties ['KC', '10C', '9D', '2S', '3H']\n",
            "high card ties high card\n",
            "['AS', '10D', '3D', 'JD', '4C'] ties ['JS', '6H', '8S', '10C', '4S']\n",
            "high card ties high card\n",
            "['4D', '6H', '7D', '10D', 'KH'] loses to ['QC', '8S', 'AD', '5H', 'QS']\n",
            "high card loses to pair\n",
            "['2D', '10H', 'QD', 'KS', '8S'] ties ['7D', '2C', 'JH', 'KD', '6S']\n",
            "high card ties high card\n",
            "['AC', '8S', '6H', '7D', '10H'] loses to ['6S', '6D', 'KC', 'JC', '10S']\n",
            "high card loses to pair\n",
            "['AD', '2D', '4C', '2H', '4S'] beats ['5C', 'QC', '7H', '6C', 'QH']\n",
            "two pair beats pair\n",
            "['6H', '7C', 'JD', '9H', '8D'] loses to ['5C', 'AD', '6D', 'JC', 'AH']\n",
            "high card loses to pair\n",
            "['KC', 'KD', 'QS', '3S', '5D'] beats ['3H', 'QC', '2D', 'JH', '9D']\n",
            "pair beats high card\n",
            "['8C', 'AH', '3D', '8H', '4S'] ties ['AD', '5S', '4H', '4D', '10C']\n",
            "pair ties pair\n",
            "['2D', '10S', '10C', '6S', 'JD'] ties ['8C', '8H', '9H', '5D', '4H']\n",
            "pair ties pair\n",
            "['3D', '6C', 'AH', '4C', '4H'] ties ['8H', 'KH', '5S', '8S', '4D']\n",
            "pair ties pair\n",
            "['9D', '7S', '6S', '8H', '3S'] loses to ['AC', '6H', 'KC', '2S', 'KH']\n",
            "high card loses to pair\n",
            "['JC', '6D', 'JS', '9C', '4D'] ties ['10D', '6H', 'AC', 'AH', '7S']\n",
            "pair ties pair\n",
            "['AH', 'JH', '2S', '3H', 'KH'] loses to ['4S', 'AD', '6S', 'QD', 'AC']\n",
            "high card loses to pair\n"
          ]
        }
      ]
    }
  ]
}
